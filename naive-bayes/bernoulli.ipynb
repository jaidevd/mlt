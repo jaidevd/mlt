{
 "cells": [
  {
   "cell_type": "code",
   "execution_count": 1,
   "id": "fa17a497-eafe-44f1-8329-baa9d582e99a",
   "metadata": {},
   "outputs": [],
   "source": [
    "from sklearn.naive_bayes import BernoulliNB\n",
    "from sklearn.metrics import accuracy_score\n",
    "import numpy as np"
   ]
  },
  {
   "cell_type": "code",
   "execution_count": 51,
   "id": "04db0919-3198-4f3f-88ac-36c34713d2b7",
   "metadata": {},
   "outputs": [],
   "source": [
    "class Bernoulli:\n",
    "    \n",
    "    def __init__(self, alpha=1):\n",
    "        self.alpha = alpha\n",
    "    \n",
    "    def _get_ccd(self, X, y):\n",
    "        ccd = np.zeros((self.n_classes, X.shape[1]))\n",
    "        for i, label in enumerate(self.labels):\n",
    "            subset = X[y == label]\n",
    "            ccd[i] = (subset.sum(axis=0) + self.alpha) / (subset.shape[0] + 2 * self.alpha)\n",
    "        return ccd\n",
    "    \n",
    "    def fit(self, X, y):\n",
    "        self.labels, counts = np.unique(y, return_counts=True)\n",
    "        self.n_classes = self.labels.shape[0]\n",
    "        self.label_priors = np.c_[self.labels, (counts + self.alpha) / (y.shape[0] + self.n_classes * self.alpha)]\n",
    "\n",
    "        # Compute class conditional densities\n",
    "        self.ccd = self._get_ccd(X, y)\n",
    "        return self\n",
    "    \n",
    "    def predict(self, X):\n",
    "        likelihood = np.dot(np.log(self.ccd), X.T).T + self.label_priors[:, 1]\n",
    "        return self.labels[np.argmax(likelihood, axis=1)]"
   ]
  },
  {
   "cell_type": "code",
   "execution_count": 57,
   "id": "8519f23d-3806-4f2a-a203-14cd8a5b872b",
   "metadata": {},
   "outputs": [
    {
     "data": {
      "text/plain": [
       "(0.88, 0.84)"
      ]
     },
     "execution_count": 57,
     "metadata": {},
     "output_type": "execute_result"
    }
   ],
   "source": [
    "# Benchmark\n",
    "\n",
    "X = np.random.choice([0, 1], size=(50, 75))\n",
    "y = np.random.choice([0, 1], size=(50,))\n",
    "clf = BernoulliNB()\n",
    "clf.fit(X, y)\n",
    "c = Bernoulli().fit(X, y)\n",
    "accuracy_score(y, clf.predict(X)), accuracy_score(y, c.predict(X))"
   ]
  },
  {
   "cell_type": "code",
   "execution_count": 8,
   "id": "07063faa-aec8-4deb-9631-ef8782b9609a",
   "metadata": {},
   "outputs": [
    {
     "data": {
      "text/plain": [
       "array([0, 0, 0, 1, 0, 0, 1, 1, 1, 0, 0, 0, 1, 0, 0, 1, 1, 1, 0, 0, 0, 1,\n",
       "       0, 1, 1, 1, 0, 1, 1, 0, 0, 0, 1, 0, 1, 1, 0, 1, 1, 0, 0, 1, 1, 0,\n",
       "       0, 0, 0, 0, 1, 0, 0, 0, 1, 0, 1, 0, 1, 1, 1, 1, 0, 1, 0, 0, 0, 1,\n",
       "       0, 1, 0, 0, 1, 1, 0, 1, 0])"
      ]
     },
     "execution_count": 8,
     "metadata": {},
     "output_type": "execute_result"
    }
   ],
   "source": [
    "x = X[0]\n",
    "x"
   ]
  },
  {
   "cell_type": "code",
   "execution_count": 9,
   "id": "360c7458-2b27-439c-80d1-93654d488894",
   "metadata": {},
   "outputs": [
    {
     "data": {
      "text/plain": [
       "(2, 75)"
      ]
     },
     "execution_count": 9,
     "metadata": {},
     "output_type": "execute_result"
    }
   ],
   "source": [
    "c.cc_d.shape"
   ]
  },
  {
   "cell_type": "code",
   "execution_count": 44,
   "id": "62810dcd-7e57-44ab-9ded-918c87f7f443",
   "metadata": {},
   "outputs": [
    {
     "name": "stdout",
     "output_type": "stream",
     "text": [
      "0.75\n",
      "0.5\n",
      "0.75\n",
      "0.5\n",
      "0.5\n",
      "0.5\n"
     ]
    },
    {
     "name": "stderr",
     "output_type": "stream",
     "text": [
      "/home/jaidevd/conda/lib/python3.7/site-packages/ipykernel_launcher.py:19: RuntimeWarning: divide by zero encountered in log\n"
     ]
    }
   ],
   "source": [
    "# Logic gates\n",
    "X = [[0, 0], [0, 1], [1, 0], [1, 1]]\n",
    "y_and = [0, 0, 0, 1]\n",
    "y_or = [0, 1, 1, 1]\n",
    "y_xor = [0, 1, 1, 0]\n",
    "X, y_and, y_or, y_xor = map(np.array, [X, y_and, y_or, y_xor])\n",
    "\n",
    "for gate in [y_and, y_or, y_xor]:\n",
    "    clf = BernoulliNB().fit(X, gate)\n",
    "    print(accuracy_score(gate, clf.predict(X)))\n",
    "    c = Bernoulli().fit(X, gate)\n",
    "    print(accuracy_score(gate, c.predict(X)))"
   ]
  },
  {
   "cell_type": "code",
   "execution_count": 58,
   "id": "d86914d2-c8bf-4dad-b1a9-6d85b6c60ea0",
   "metadata": {},
   "outputs": [],
   "source": [
    "X = np.array([\n",
    "    [1, 0],\n",
    "    [0, 1],\n",
    "    [0, 1],\n",
    "    [1, 0] \n",
    "])\n",
    "y = np.array([1, 0, 0, 1])\n",
    "c = Bernoulli().fit(X, y)"
   ]
  },
  {
   "cell_type": "code",
   "execution_count": 59,
   "id": "e58aceee-05dc-4d89-a563-2ee41cb02334",
   "metadata": {},
   "outputs": [
    {
     "data": {
      "text/plain": [
       "array([[0. , 0.5],\n",
       "       [1. , 0.5]])"
      ]
     },
     "execution_count": 59,
     "metadata": {},
     "output_type": "execute_result"
    }
   ],
   "source": [
    "c.label_priors"
   ]
  },
  {
   "cell_type": "code",
   "execution_count": 60,
   "id": "c92f9d7f-7434-468b-ac36-6a46abe24dbb",
   "metadata": {},
   "outputs": [
    {
     "data": {
      "text/plain": [
       "array([[0.25, 0.75],\n",
       "       [0.75, 0.25]])"
      ]
     },
     "execution_count": 60,
     "metadata": {},
     "output_type": "execute_result"
    }
   ],
   "source": [
    "c.ccd"
   ]
  },
  {
   "cell_type": "code",
   "execution_count": 61,
   "id": "8342f252-b1a5-4352-95fa-5cdc2e2c80c7",
   "metadata": {},
   "outputs": [],
   "source": [
    "clf = BernoulliNB().fit(X, y)"
   ]
  },
  {
   "cell_type": "code",
   "execution_count": 62,
   "id": "5ff8fe6d-4721-4743-b33c-4605c683fded",
   "metadata": {},
   "outputs": [
    {
     "data": {
      "text/plain": [
       "array([-0.69314718, -0.69314718])"
      ]
     },
     "execution_count": 62,
     "metadata": {},
     "output_type": "execute_result"
    }
   ],
   "source": [
    "clf.class_log_prior_"
   ]
  },
  {
   "cell_type": "code",
   "execution_count": 64,
   "id": "692f1379-4378-4060-9d08-a47c0d9306bc",
   "metadata": {},
   "outputs": [
    {
     "data": {
      "text/plain": [
       "array([[-1.38629436, -0.28768207],\n",
       "       [-0.28768207, -1.38629436]])"
      ]
     },
     "execution_count": 64,
     "metadata": {},
     "output_type": "execute_result"
    }
   ],
   "source": [
    "clf.feature_log_prob_"
   ]
  },
  {
   "cell_type": "code",
   "execution_count": 65,
   "id": "3d505a47-53bc-4d88-badc-f8e1b4dfc3de",
   "metadata": {},
   "outputs": [
    {
     "data": {
      "text/plain": [
       "array([[-1.38629436, -0.28768207],\n",
       "       [-0.28768207, -1.38629436]])"
      ]
     },
     "execution_count": 65,
     "metadata": {},
     "output_type": "execute_result"
    }
   ],
   "source": [
    "np.log(c.ccd)"
   ]
  },
  {
   "cell_type": "code",
   "execution_count": null,
   "id": "15908aba-53c7-4fca-bbf9-26c098072d8e",
   "metadata": {},
   "outputs": [],
   "source": []
  }
 ],
 "metadata": {
  "kernelspec": {
   "display_name": "Python 3 (ipykernel)",
   "language": "python",
   "name": "python3"
  },
  "language_info": {
   "codemirror_mode": {
    "name": "ipython",
    "version": 3
   },
   "file_extension": ".py",
   "mimetype": "text/x-python",
   "name": "python",
   "nbconvert_exporter": "python",
   "pygments_lexer": "ipython3",
   "version": "3.7.11"
  }
 },
 "nbformat": 4,
 "nbformat_minor": 5
}
