{
 "cells": [
  {
   "cell_type": "code",
   "execution_count": 1,
   "id": "7d3f39e3",
   "metadata": {},
   "outputs": [],
   "source": [
    "import numpy as np\n",
    "import matplotlib.pyplot as plt"
   ]
  },
  {
   "cell_type": "code",
   "execution_count": 3,
   "id": "25035699",
   "metadata": {},
   "outputs": [
    {
     "data": {
      "text/plain": [
       "<matplotlib.collections.PathCollection at 0x7f69fefebfd0>"
      ]
     },
     "execution_count": 3,
     "metadata": {},
     "output_type": "execute_result"
    },
    {
     "data": {
      "image/png": "[encoded data removed]",
      "text/plain": [
       "<Figure size 432x288 with 1 Axes>"
      ]
     },
     "metadata": {
      "needs_background": "light"
     },
     "output_type": "display_data"
    }
   ],
   "source": [
    "# Params\n",
    "\n",
    "w0, w1 = 4, 3\n",
    "N = 100\n",
    "\n",
    "X = 10 * np.random.rand(N,)\n",
    "\n",
    "y = w0 + w1 * X + np.random.randn(N,)\n",
    "plt.scatter(X, y)"
   ]
  },
  {
   "cell_type": "code",
   "execution_count": 4,
   "id": "7c6c697d",
   "metadata": {},
   "outputs": [
    {
     "data": {
      "text/plain": [
       "<matplotlib.collections.PathCollection at 0x7f69cb8bcfd0>"
      ]
     },
     "execution_count": 4,
     "metadata": {},
     "output_type": "execute_result"
    },
    {
     "data": {
      "image/png": "[encoded data removed]",
      "text/plain": [
       "<Figure size 432x288 with 1 Axes>"
      ]
     },
     "metadata": {
      "needs_background": "light"
     },
     "output_type": "display_data"
    }
   ],
   "source": [
    "from sklearn.model_selection import train_test_split\n",
    "\n",
    "xtr, xts, ytr, yts = train_test_split(X, y, test_size=0.2)\n",
    "plt.scatter(xtr, ytr, label='Train')\n",
    "plt.scatter(xts, yts, label='Test')"
   ]
  },
  {
   "cell_type": "code",
   "execution_count": 7,
   "id": "906c37c8",
   "metadata": {},
   "outputs": [
    {
     "data": {
      "text/plain": [
       "array([[1.        , 8.86799137],\n",
       "       [1.        , 7.68652623],\n",
       "       [1.        , 8.50793329],\n",
       "       [1.        , 3.64720372],\n",
       "       [1.        , 8.92763494]])"
      ]
     },
     "execution_count": 7,
     "metadata": {},
     "output_type": "execute_result"
    }
   ],
   "source": [
    "Xnew = np.c_[np.ones((X.shape[0],)), X]\n",
    "Xnew[:5, :]"
   ]
  },
  {
   "cell_type": "code",
   "execution_count": 8,
   "id": "52dbea25",
   "metadata": {},
   "outputs": [],
   "source": [
    "def predict(X, w):\n",
    "    return X @ w"
   ]
  },
  {
   "cell_type": "code",
   "execution_count": 9,
   "id": "c0658b7d",
   "metadata": {},
   "outputs": [],
   "source": [
    "w = np.random.rand(2,)"
   ]
  },
  {
   "cell_type": "code",
   "execution_count": 11,
   "id": "902e0ba2",
   "metadata": {},
   "outputs": [],
   "source": [
    "yhat = predict(Xnew, w)"
   ]
  },
  {
   "cell_type": "code",
   "execution_count": 12,
   "id": "28a3ef97",
   "metadata": {},
   "outputs": [],
   "source": [
    "def loss(X, y, w):\n",
    "    yhat = X @ w\n",
    "    e = y - yhat\n",
    "    return 1 / 2 * e.T @ e"
   ]
  },
  {
   "cell_type": "code",
   "execution_count": null,
   "id": "4b6ca964",
   "metadata": {},
   "outputs": [],
   "source": []
  }
 ],
 "metadata": {
  "kernelspec": {
   "display_name": "Python 3 (ipykernel)",
   "language": "python",
   "name": "python3"
  },
  "language_info": {
   "codemirror_mode": {
    "name": "ipython",
    "version": 3
   },
   "file_extension": ".py",
   "mimetype": "text/x-python",
   "name": "python",
   "nbconvert_exporter": "python",
   "pygments_lexer": "ipython3",
   "version": "3.7.11"
  }
 },
 "nbformat": 4,
 "nbformat_minor": 5
}
