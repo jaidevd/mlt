{
 "cells": [
  {
   "cell_type": "code",
   "execution_count": 2,
   "id": "adb30a42-556a-49ab-9706-616b07438175",
   "metadata": {},
   "outputs": [],
   "source": [
    "import pandas as pd\n",
    "import numpy as np\n",
    "eps = np.finfo(float).eps"
   ]
  },
  {
   "cell_type": "code",
   "execution_count": 15,
   "id": "07a00d22-e495-401e-bf23-f324e8747920",
   "metadata": {},
   "outputs": [
    {
     "data": {
      "text/html": [
       "<div>\n",
       "<style scoped>\n",
       "    .dataframe tbody tr th:only-of-type {\n",
       "        vertical-align: middle;\n",
       "    }\n",
       "\n",
       "    .dataframe tbody tr th {\n",
       "        vertical-align: top;\n",
       "    }\n",
       "\n",
       "    .dataframe thead th {\n",
       "        text-align: right;\n",
       "    }\n",
       "</style>\n",
       "<table border=\"1\" class=\"dataframe\">\n",
       "  <thead>\n",
       "    <tr style=\"text-align: right;\">\n",
       "      <th></th>\n",
       "      <th>outlook</th>\n",
       "      <th>temperature</th>\n",
       "      <th>humidity</th>\n",
       "      <th>wind</th>\n",
       "      <th>play</th>\n",
       "    </tr>\n",
       "  </thead>\n",
       "  <tbody>\n",
       "    <tr>\n",
       "      <th>0</th>\n",
       "      <td>sunny</td>\n",
       "      <td>hot</td>\n",
       "      <td>high</td>\n",
       "      <td>weak</td>\n",
       "      <td>False</td>\n",
       "    </tr>\n",
       "    <tr>\n",
       "      <th>1</th>\n",
       "      <td>sunny</td>\n",
       "      <td>hot</td>\n",
       "      <td>high</td>\n",
       "      <td>strong</td>\n",
       "      <td>False</td>\n",
       "    </tr>\n",
       "    <tr>\n",
       "      <th>2</th>\n",
       "      <td>overcast</td>\n",
       "      <td>hot</td>\n",
       "      <td>high</td>\n",
       "      <td>weak</td>\n",
       "      <td>True</td>\n",
       "    </tr>\n",
       "    <tr>\n",
       "      <th>3</th>\n",
       "      <td>rain</td>\n",
       "      <td>mild</td>\n",
       "      <td>high</td>\n",
       "      <td>weak</td>\n",
       "      <td>True</td>\n",
       "    </tr>\n",
       "    <tr>\n",
       "      <th>4</th>\n",
       "      <td>rain</td>\n",
       "      <td>cool</td>\n",
       "      <td>normal</td>\n",
       "      <td>weak</td>\n",
       "      <td>True</td>\n",
       "    </tr>\n",
       "  </tbody>\n",
       "</table>\n",
       "</div>"
      ],
      "text/plain": [
       "    outlook temperature humidity    wind   play\n",
       "0     sunny         hot     high    weak  False\n",
       "1     sunny         hot     high  strong  False\n",
       "2  overcast         hot     high    weak   True\n",
       "3      rain        mild     high    weak   True\n",
       "4      rain        cool   normal    weak   True"
      ]
     },
     "execution_count": 15,
     "metadata": {},
     "output_type": "execute_result"
    }
   ],
   "source": [
    "df = pd.read_csv('tennis.csv')\n",
    "df['play'] = df['play'] == 'yes'\n",
    "df.head()"
   ]
  },
  {
   "cell_type": "code",
   "execution_count": 4,
   "id": "aa1a54ef-a287-4440-a307-1b1bf903e4b6",
   "metadata": {},
   "outputs": [
    {
     "data": {
      "text/plain": [
       "(14, 5)"
      ]
     },
     "execution_count": 4,
     "metadata": {},
     "output_type": "execute_result"
    }
   ],
   "source": [
    "df.shape"
   ]
  },
  {
   "cell_type": "code",
   "execution_count": 5,
   "id": "59dd43dc-f92b-4a75-9c18-db80c9eb703f",
   "metadata": {},
   "outputs": [
    {
     "data": {
      "text/plain": [
       "Index(['outlook', 'temperature', 'humidity', 'wind', 'play'], dtype='object')"
      ]
     },
     "execution_count": 5,
     "metadata": {},
     "output_type": "execute_result"
    }
   ],
   "source": [
    "df.columns"
   ]
  },
  {
   "cell_type": "code",
   "execution_count": 10,
   "id": "5b8e64d3-a90e-4ba5-8a51-721491fc0b09",
   "metadata": {},
   "outputs": [],
   "source": [
    "def find_entropy(target):\n",
    "    vc = target.value_counts(normalize=True)\n",
    "    ent = 0\n",
    "    for val in vc.values:\n",
    "        ent += - val * np.log2(val)\n",
    "    return ent"
   ]
  },
  {
   "cell_type": "code",
   "execution_count": 11,
   "id": "36e29820-0151-4343-9862-c764e3b97568",
   "metadata": {},
   "outputs": [
    {
     "data": {
      "text/plain": [
       "0.9402859586706311"
      ]
     },
     "execution_count": 11,
     "metadata": {},
     "output_type": "execute_result"
    }
   ],
   "source": [
    "find_entropy(df['play'])"
   ]
  },
  {
   "cell_type": "code",
   "execution_count": 23,
   "id": "da122abe-2434-4ef3-b1e8-c4a82dfd153c",
   "metadata": {},
   "outputs": [
    {
     "name": "stdout",
     "output_type": "stream",
     "text": [
      "outlook 0.6935361388961918\n",
      "temperature 0.9110633930116763\n",
      "humidity 0.7884504573082896\n",
      "wind 0.8921589282623617\n"
     ]
    }
   ],
   "source": [
    "def find_attr_entropy(df, attr, target):\n",
    "    xdf = df[[attr, target]]\n",
    "    ent = xdf.groupby(attr).agg(find_entropy)[target]\n",
    "    vcs = df[attr].value_counts(normalize=True)\n",
    "    return (ent * vcs).sum()\n",
    "\n",
    "for col in df.drop(['play'], axis=1):\n",
    "    print(col, find_attr_entropy(df, col, 'play'))"
   ]
  },
  {
   "cell_type": "code",
   "execution_count": 27,
   "id": "2ecd97b8-c78e-4a35-9756-2581545bf5fa",
   "metadata": {},
   "outputs": [],
   "source": [
    "def find_best_attr(df, target):\n",
    "    ents = {}\n",
    "    for col in df.drop([target], axis=1):\n",
    "        ents[col] = find_attr_entropy(df, col, target)\n",
    "        print(f'Entropy for {col} is {ents[col]}')\n",
    "    ents = pd.Series(ents)\n",
    "    best = ents.idxmin()\n",
    "    print(f'The lowest entropy / highest IG is from {best}.')\n",
    "    return best"
   ]
  },
  {
   "cell_type": "code",
   "execution_count": 28,
   "id": "b0b4dc91-74e5-4795-818f-96b1959be05a",
   "metadata": {},
   "outputs": [
    {
     "name": "stdout",
     "output_type": "stream",
     "text": [
      "Entropy for outlook is 0.6935361388961918\n",
      "Entropy for temperature is 0.9110633930116763\n",
      "Entropy for humidity is 0.7884504573082896\n",
      "Entropy for wind is 0.8921589282623617\n",
      "The lowest entropy / highest IG is from outlook.\n"
     ]
    },
    {
     "data": {
      "text/plain": [
       "'outlook'"
      ]
     },
     "execution_count": 28,
     "metadata": {},
     "output_type": "execute_result"
    }
   ],
   "source": [
    "find_best_attr(df, 'play')"
   ]
  },
  {
   "cell_type": "code",
   "execution_count": null,
   "id": "5f4fb485-2df0-48c3-8197-68c2abbec6f1",
   "metadata": {},
   "outputs": [],
   "source": []
  }
 ],
 "metadata": {
  "kernelspec": {
   "display_name": "Python 3 (ipykernel)",
   "language": "python",
   "name": "python3"
  },
  "language_info": {
   "codemirror_mode": {
    "name": "ipython",
    "version": 3
   },
   "file_extension": ".py",
   "mimetype": "text/x-python",
   "name": "python",
   "nbconvert_exporter": "python",
   "pygments_lexer": "ipython3",
   "version": "3.7.11"
  }
 },
 "nbformat": 4,
 "nbformat_minor": 5
}
